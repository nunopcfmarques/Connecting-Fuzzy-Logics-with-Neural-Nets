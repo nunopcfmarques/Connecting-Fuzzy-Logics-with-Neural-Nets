{
 "cells": [
  {
   "cell_type": "code",
   "execution_count": 57,
   "metadata": {},
   "outputs": [],
   "source": [
    "from src.Logics.Lukasiewicz import Lukasiewicz\n",
    "from src.Parser import LanguageParser\n",
    "from src.LogicToRELU import *\n",
    "\n",
    "import numpy as np"
   ]
  },
  {
   "cell_type": "code",
   "execution_count": 58,
   "metadata": {},
   "outputs": [
    {
     "name": "stdout",
     "output_type": "stream",
     "text": [
      "0.2152446306279766\n",
      "0.6791731696849729\n",
      "0.2152446306279766\n",
      "0.2152446306279766\n",
      "0.4304892612559532\n",
      "((x⊕x)⊙(¬y))\n",
      "(\n",
      "x\n",
      "⊕\n",
      "x\n",
      ")\n",
      "⊙\n",
      "(x⊕x)⊙(¬y)\n",
      "(x⊕x)\n",
      "x\n",
      "⊕\n",
      "x⊕x\n",
      "(¬y)\n",
      "¬\n",
      "¬y\n",
      "self.logic.CONJ(self.logic.DISJ(self.logic.val[\"x\"],self.logic.val[\"x\"]),self.logic.NEG(self.logic.val[\"y\"]))\n",
      "0.2152446306279766\n",
      "0.2152446306279766\n",
      "0\n",
      "tensor([0.], grad_fn=<ViewBackward0>)\n"
     ]
    }
   ],
   "source": [
    "language = {\"⊕\", \"⊙\", \"¬\"}\n",
    "\n",
    "logic = Lukasiewicz(language)\n",
    "language_parser = LanguageParser(logic)\n",
    "\n",
    "val = {\"x\": np.random.random(), \"y\": np.random.random()}\n",
    "\n",
    "print(val[\"x\"])\n",
    "print(val[\"y\"])\n",
    "\n",
    "language_parser.logic.val = val\n",
    "\n",
    "print(logic.DISJ(val[\"x\"], val[\"x\"]))\n",
    "\n",
    "formula = \"((x⊕x)⊙(¬y))\"\n",
    "function = language_parser.formula_parser(formula)\n",
    "print(function)\n",
    "result_function = language_parser.evaluate(function)\n",
    "\n",
    "tensor1 = connective_to_relu[\"⊕\"](torch.tensor([val[\"x\"], val[\"x\"]]))\n",
    "tensor2 = connective_to_relu[\"¬\"](torch.tensor([val[\"y\"]]))\n",
    "\n",
    "combined_tensor = torch.cat([tensor1, tensor2])\n",
    "\n",
    "result_ReLU = connective_to_relu[\"⊙\"](combined_tensor)\n",
    "\n",
    "print(result_function)\n",
    "print(result_ReLU)\n",
    "\n",
    "\n"
   ]
  }
 ],
 "metadata": {
  "kernelspec": {
   "display_name": "Python 3",
   "language": "python",
   "name": "python3"
  },
  "language_info": {
   "codemirror_mode": {
    "name": "ipython",
    "version": 3
   },
   "file_extension": ".py",
   "mimetype": "text/x-python",
   "name": "python",
   "nbconvert_exporter": "python",
   "pygments_lexer": "ipython3",
   "version": "3.10.12"
  }
 },
 "nbformat": 4,
 "nbformat_minor": 2
}
