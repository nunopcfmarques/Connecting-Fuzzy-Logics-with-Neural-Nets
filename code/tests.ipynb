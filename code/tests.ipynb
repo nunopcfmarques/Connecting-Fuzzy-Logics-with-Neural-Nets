{
 "cells": [
  {
   "cell_type": "code",
   "execution_count": 1,
   "metadata": {},
   "outputs": [],
   "source": [
    "from TLogic import *\n",
    "from Lukasiewicz import *\n",
    "from Parser import *\n",
    "\n",
    "import numpy as np"
   ]
  },
  {
   "cell_type": "code",
   "execution_count": 66,
   "metadata": {},
   "outputs": [
    {
     "name": "stdout",
     "output_type": "stream",
     "text": [
      "1\n"
     ]
    }
   ],
   "source": [
    "language = {\"⇒\", \"⊥\", \"¬\"}\n",
    "\n",
    "logic = Lukasiewicz(language)\n",
    "language_parser = LanguageParser(logic)\n",
    "\n",
    "val = {\"A\": np.random.rand(), \"B\": np.random.rand(), \"C\": np.random.rand()}\n",
    "\n",
    "language_parser.logic.val = val\n",
    "\n",
    "tautology = \"((B⇒A)⇒(A⇒B))\"\n",
    "function = language_parser.formula_parser(tautology)\n",
    "\n",
    "x = language_parser.evaluate(function)"
   ]
  }
 ],
 "metadata": {
  "kernelspec": {
   "display_name": "Python 3",
   "language": "python",
   "name": "python3"
  },
  "language_info": {
   "codemirror_mode": {
    "name": "ipython",
    "version": 3
   },
   "file_extension": ".py",
   "mimetype": "text/x-python",
   "name": "python",
   "nbconvert_exporter": "python",
   "pygments_lexer": "ipython3",
   "version": "3.10.12"
  }
 },
 "nbformat": 4,
 "nbformat_minor": 2
}
